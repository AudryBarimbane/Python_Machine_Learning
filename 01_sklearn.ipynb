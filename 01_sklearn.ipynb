{
  "nbformat": 4,
  "nbformat_minor": 0,
  "metadata": {
    "colab": {
      "name": "01_sklearn.ipynb",
      "provenance": [],
      "collapsed_sections": [],
      "authorship_tag": "ABX9TyOb3MlCdY+Eoo8ZsLxvjkzd",
      "include_colab_link": true
    },
    "kernelspec": {
      "name": "python3",
      "display_name": "Python 3"
    },
    "language_info": {
      "name": "python"
    }
  },
  "cells": [
    {
      "cell_type": "markdown",
      "metadata": {
        "id": "view-in-github",
        "colab_type": "text"
      },
      "source": [
        "<a href=\"https://colab.research.google.com/github/AudryBarimbane/Python_Machine_Learning/blob/main/01_sklearn.ipynb\" target=\"_parent\"><img src=\"https://colab.research.google.com/assets/colab-badge.svg\" alt=\"Open In Colab\"/></a>"
      ]
    },
    {
      "cell_type": "markdown",
      "metadata": {
        "id": "HfDZgMdiNZ_l"
      },
      "source": [
        "**Intro**"
      ]
    },
    {
      "cell_type": "markdown",
      "metadata": {
        "id": "M9N9UxTKHC9y"
      },
      "source": [
        "Plusieurs modèles et algorithmes sont implémentés dans sklearn avec une \n",
        "architecture orientée objet\n",
        "* chaque modèle dispose sa propre classe\n",
        "* pour créer un modèle ,on génére un objet de la classe correspondant à ce modèle(en sklearn , on l'appelle un estimateur)\n",
        "\n",
        "\n",
        "\n"
      ]
    },
    {
      "cell_type": "markdown",
      "metadata": {
        "id": "mGdWTOUCHx-R"
      },
      "source": [
        "\n",
        "\n",
        "1.Sélectionner un estimateur et préciser ses hyperparamètres \n",
        "       model(objet)  , LinearRegression(constructeur),(......) hyperparamètres \n",
        "       model  =  LinearRegression(...................)\n",
        "       Exemple :\n",
        "         model = SGDRegressor(eta0=0.3)#learning_rate = 0.3\n",
        "\n",
        "         model = RandomForestClassifier(n_estimators=100)\n",
        "\n",
        "2.Initialiser un modèle ->Entrainer un modèle -> Evaluer  modèle -> l'utiliser en utilisant 3 méthodes qu'on retrouve dans toutes les classes de sklearn\n",
        "\n",
        "\n",
        "3.Tous les modèles de sklearn , ont des mécanismes différents mais possèdent la même interface (fit ,score,predict)\n",
        "  exemple1 :\n",
        "      Linear regression :\n",
        "         model =LinearRegression()\n",
        "         model.fit(X,y)\n",
        "         model.score(X,y)\n",
        "         model.predict(X)\n",
        "  exemple2 :\n",
        "       Decision tree :\n",
        "         model =DecisionTreeClassifier()\n",
        "         model.fit(X,y)\n",
        "         model.score(X,y)\n",
        "         model.predict(X)\n",
        "4. Entrainer le modèle sur les données X,y (divisées en 2 tableaux numpy) \n",
        "         model.fit(X,y)\n",
        "\n",
        "      => X et y doivent avoir 2 dimensions \n",
        "          [n_samples,n_features]\n",
        "\n",
        "          Feature Matrix (X) , Target vector(y)\n",
        "           1ere dimension :nbre d echantillons dans la dataset\n",
        "           2eme dimension : nbre de features dans la dataset \n",
        "  5.Evaluer le modèle  avec la méthode score \n",
        "      model.score(X,y)\n",
        "  6.utiliser le modèle \n",
        "      model.predict(X)         \n",
        "\n",
        "\n",
        "\n"
      ]
    },
    {
      "cell_type": "code",
      "metadata": {
        "id": "xLSWjejUNne8"
      },
      "source": [
        "import numpy as np\n",
        "import matplotlib.pyplot as plt"
      ],
      "execution_count": null,
      "outputs": []
    },
    {
      "cell_type": "markdown",
      "metadata": {
        "id": "Q-mABVORNfZC"
      },
      "source": [
        "**1. Regression avec SKLearn**"
      ]
    },
    {
      "cell_type": "code",
      "metadata": {
        "id": "Zz3zjGqQDilH"
      },
      "source": [
        "np.random.seed(0)\n",
        "m = 100  # creating 100 sample\n",
        "X = np.linspace(0,10,m).reshape(m,1)\n",
        "y = X + np.random.randn(m,1)"
      ],
      "execution_count": null,
      "outputs": []
    },
    {
      "cell_type": "code",
      "metadata": {
        "colab": {
          "base_uri": "https://localhost:8080/",
          "height": 283
        },
        "id": "w1Z6QSjfOYYs",
        "outputId": "083781c9-5e4f-4f52-9868-b6e75481a409"
      },
      "source": [
        "plt.scatter(X,y)"
      ],
      "execution_count": null,
      "outputs": [
        {
          "output_type": "execute_result",
          "data": {
            "text/plain": [
              "<matplotlib.collections.PathCollection at 0x7f097020e0d0>"
            ]
          },
          "metadata": {},
          "execution_count": 5
        },
        {
          "output_type": "display_data",
          "data": {
            "image/png": "[encoded data removed]",
            "text/plain": [
              "<Figure size 432x288 with 1 Axes>"
            ]
          },
          "metadata": {
            "needs_background": "light"
          }
        }
      ]
    },
    {
      "cell_type": "code",
      "metadata": {
        "id": "zppdVRkbOnjb"
      },
      "source": [
        "from sklearn.linear_model import LinearRegression"
      ],
      "execution_count": null,
      "outputs": []
    },
    {
      "cell_type": "code",
      "metadata": {
        "id": "Y6pgT7mYPJUJ"
      },
      "source": [
        " "
      ],
      "execution_count": null,
      "outputs": []
    },
    {
      "cell_type": "code",
      "metadata": {
        "colab": {
          "base_uri": "https://localhost:8080/"
        },
        "id": "2KKSCIUQPA-M",
        "outputId": "fbdec29b-a31b-463d-9d0c-4ea079b40e4c"
      },
      "source": [
        "model = LinearRegression()  #création d un objet de la classe LinearRegression\n",
        "model.fit(X,y)\n",
        "model.score(X,y)\n",
        "\n"
      ],
      "execution_count": null,
      "outputs": [
        {
          "output_type": "execute_result",
          "data": {
            "text/plain": [
              "0.8881140743377214"
            ]
          },
          "metadata": {},
          "execution_count": 10
        }
      ]
    },
    {
      "cell_type": "markdown",
      "metadata": {
        "id": "iHRStK2MPrgD"
      },
      "source": [
        "ci-haut 0.8881140743377214(score de 88%) c est le coefficient de détermination "
      ]
    },
    {
      "cell_type": "code",
      "metadata": {
        "colab": {
          "base_uri": "https://localhost:8080/"
        },
        "id": "ETEVe_GrQWZ4",
        "outputId": "25dee3aa-a9cd-41d4-b81e-ddea2af95df4"
      },
      "source": [
        "model.predict(X)"
      ],
      "execution_count": null,
      "outputs": [
        {
          "output_type": "execute_result",
          "data": {
            "text/plain": [
              "array([[0.20847145],\n",
              "       [0.30647825],\n",
              "       [0.40448505],\n",
              "       [0.50249185],\n",
              "       [0.60049865],\n",
              "       [0.69850544],\n",
              "       [0.79651224],\n",
              "       [0.89451904],\n",
              "       [0.99252584],\n",
              "       [1.09053264],\n",
              "       [1.18853944],\n",
              "       [1.28654624],\n",
              "       [1.38455304],\n",
              "       [1.48255984],\n",
              "       [1.58056664],\n",
              "       [1.67857344],\n",
              "       [1.77658024],\n",
              "       [1.87458704],\n",
              "       [1.97259384],\n",
              "       [2.07060064],\n",
              "       [2.16860743],\n",
              "       [2.26661423],\n",
              "       [2.36462103],\n",
              "       [2.46262783],\n",
              "       [2.56063463],\n",
              "       [2.65864143],\n",
              "       [2.75664823],\n",
              "       [2.85465503],\n",
              "       [2.95266183],\n",
              "       [3.05066863],\n",
              "       [3.14867543],\n",
              "       [3.24668223],\n",
              "       [3.34468903],\n",
              "       [3.44269583],\n",
              "       [3.54070263],\n",
              "       [3.63870942],\n",
              "       [3.73671622],\n",
              "       [3.83472302],\n",
              "       [3.93272982],\n",
              "       [4.03073662],\n",
              "       [4.12874342],\n",
              "       [4.22675022],\n",
              "       [4.32475702],\n",
              "       [4.42276382],\n",
              "       [4.52077062],\n",
              "       [4.61877742],\n",
              "       [4.71678422],\n",
              "       [4.81479102],\n",
              "       [4.91279782],\n",
              "       [5.01080462],\n",
              "       [5.10881142],\n",
              "       [5.20681821],\n",
              "       [5.30482501],\n",
              "       [5.40283181],\n",
              "       [5.50083861],\n",
              "       [5.59884541],\n",
              "       [5.69685221],\n",
              "       [5.79485901],\n",
              "       [5.89286581],\n",
              "       [5.99087261],\n",
              "       [6.08887941],\n",
              "       [6.18688621],\n",
              "       [6.28489301],\n",
              "       [6.38289981],\n",
              "       [6.48090661],\n",
              "       [6.57891341],\n",
              "       [6.6769202 ],\n",
              "       [6.774927  ],\n",
              "       [6.8729338 ],\n",
              "       [6.9709406 ],\n",
              "       [7.0689474 ],\n",
              "       [7.1669542 ],\n",
              "       [7.264961  ],\n",
              "       [7.3629678 ],\n",
              "       [7.4609746 ],\n",
              "       [7.5589814 ],\n",
              "       [7.6569882 ],\n",
              "       [7.754995  ],\n",
              "       [7.8530018 ],\n",
              "       [7.9510086 ],\n",
              "       [8.0490154 ],\n",
              "       [8.14702219],\n",
              "       [8.24502899],\n",
              "       [8.34303579],\n",
              "       [8.44104259],\n",
              "       [8.53904939],\n",
              "       [8.63705619],\n",
              "       [8.73506299],\n",
              "       [8.83306979],\n",
              "       [8.93107659],\n",
              "       [9.02908339],\n",
              "       [9.12709019],\n",
              "       [9.22509699],\n",
              "       [9.32310379],\n",
              "       [9.42111059],\n",
              "       [9.51911739],\n",
              "       [9.61712419],\n",
              "       [9.71513098],\n",
              "       [9.81313778],\n",
              "       [9.91114458]])"
            ]
          },
          "metadata": {},
          "execution_count": 11
        }
      ]
    },
    {
      "cell_type": "code",
      "metadata": {
        "colab": {
          "base_uri": "https://localhost:8080/",
          "height": 283
        },
        "id": "IO363vddQm3h",
        "outputId": "6e22ac96-e81c-47b7-8078-c992e616138b"
      },
      "source": [
        "predictions = model.predict(X)\n",
        "plt.scatter(X,y)\n",
        "plt.plot(X,predictions, c='r')"
      ],
      "execution_count": null,
      "outputs": [
        {
          "output_type": "execute_result",
          "data": {
            "text/plain": [
              "[<matplotlib.lines.Line2D at 0x7f095eeb4690>]"
            ]
          },
          "metadata": {},
          "execution_count": 13
        },
        {
          "output_type": "display_data",
          "data": {
            "image/png": "[encoded data removed]",
            "text/plain": [
              "<Figure size 432x288 with 1 Axes>"
            ]
          },
          "metadata": {
            "needs_background": "light"
          }
        }
      ]
    },
    {
      "cell_type": "code",
      "metadata": {
        "colab": {
          "base_uri": "https://localhost:8080/",
          "height": 282
        },
        "id": "eJSltYoKRaek",
        "outputId": "650883a0-db5a-4242-abb5-a4e8a8390f76"
      },
      "source": [
        "np.random.seed(0)\n",
        "m = 100  # creating 100 sample\n",
        "X = np.linspace(0,10,m).reshape(m,1)\n",
        "#avec un dataset non linéaire la LinearRegression ne marche pas\n",
        "y = X**2 + np.random.randn(m,1)\n",
        "\n",
        "\n",
        "plt.scatter(X,y)"
      ],
      "execution_count": null,
      "outputs": [
        {
          "output_type": "execute_result",
          "data": {
            "text/plain": [
              "<matplotlib.collections.PathCollection at 0x7f095eeb4950>"
            ]
          },
          "metadata": {},
          "execution_count": 14
        },
        {
          "output_type": "display_data",
          "data": {
            "image/png": "[encoded data removed]",
            "text/plain": [
              "<Figure size 432x288 with 1 Axes>"
            ]
          },
          "metadata": {
            "needs_background": "light"
          }
        }
      ]
    },
    {
      "cell_type": "code",
      "metadata": {
        "colab": {
          "base_uri": "https://localhost:8080/"
        },
        "id": "X2qsyx_0R3Rk",
        "outputId": "2d16927f-f999-4611-bf74-f6b5d3beb042"
      },
      "source": [
        "model = LinearRegression()  #création d un objet de la classe LinearRegression\n",
        "model.fit(X,y)\n",
        "model.score(X,y)"
      ],
      "execution_count": null,
      "outputs": [
        {
          "output_type": "execute_result",
          "data": {
            "text/plain": [
              "0.928782407186839"
            ]
          },
          "metadata": {},
          "execution_count": 15
        }
      ]
    },
    {
      "cell_type": "code",
      "metadata": {
        "colab": {
          "base_uri": "https://localhost:8080/"
        },
        "id": "cxpsHUQZR82Z",
        "outputId": "396d5af6-25b2-4541-adb5-a0f74928a330"
      },
      "source": [
        "model.predict(X)"
      ],
      "execution_count": null,
      "outputs": [
        {
          "output_type": "execute_result",
          "data": {
            "text/plain": [
              "array([[-16.28984505],\n",
              "       [-15.28274734],\n",
              "       [-14.27564963],\n",
              "       [-13.26855193],\n",
              "       [-12.26145422],\n",
              "       [-11.25435651],\n",
              "       [-10.2472588 ],\n",
              "       [ -9.24016109],\n",
              "       [ -8.23306338],\n",
              "       [ -7.22596567],\n",
              "       [ -6.21886797],\n",
              "       [ -5.21177026],\n",
              "       [ -4.20467255],\n",
              "       [ -3.19757484],\n",
              "       [ -2.19047713],\n",
              "       [ -1.18337942],\n",
              "       [ -0.17628172],\n",
              "       [  0.83081599],\n",
              "       [  1.8379137 ],\n",
              "       [  2.84501141],\n",
              "       [  3.85210912],\n",
              "       [  4.85920683],\n",
              "       [  5.86630454],\n",
              "       [  6.87340224],\n",
              "       [  7.88049995],\n",
              "       [  8.88759766],\n",
              "       [  9.89469537],\n",
              "       [ 10.90179308],\n",
              "       [ 11.90889079],\n",
              "       [ 12.91598849],\n",
              "       [ 13.9230862 ],\n",
              "       [ 14.93018391],\n",
              "       [ 15.93728162],\n",
              "       [ 16.94437933],\n",
              "       [ 17.95147704],\n",
              "       [ 18.95857474],\n",
              "       [ 19.96567245],\n",
              "       [ 20.97277016],\n",
              "       [ 21.97986787],\n",
              "       [ 22.98696558],\n",
              "       [ 23.99406329],\n",
              "       [ 25.001161  ],\n",
              "       [ 26.0082587 ],\n",
              "       [ 27.01535641],\n",
              "       [ 28.02245412],\n",
              "       [ 29.02955183],\n",
              "       [ 30.03664954],\n",
              "       [ 31.04374725],\n",
              "       [ 32.05084495],\n",
              "       [ 33.05794266],\n",
              "       [ 34.06504037],\n",
              "       [ 35.07213808],\n",
              "       [ 36.07923579],\n",
              "       [ 37.0863335 ],\n",
              "       [ 38.09343121],\n",
              "       [ 39.10052891],\n",
              "       [ 40.10762662],\n",
              "       [ 41.11472433],\n",
              "       [ 42.12182204],\n",
              "       [ 43.12891975],\n",
              "       [ 44.13601746],\n",
              "       [ 45.14311516],\n",
              "       [ 46.15021287],\n",
              "       [ 47.15731058],\n",
              "       [ 48.16440829],\n",
              "       [ 49.171506  ],\n",
              "       [ 50.17860371],\n",
              "       [ 51.18570141],\n",
              "       [ 52.19279912],\n",
              "       [ 53.19989683],\n",
              "       [ 54.20699454],\n",
              "       [ 55.21409225],\n",
              "       [ 56.22118996],\n",
              "       [ 57.22828767],\n",
              "       [ 58.23538537],\n",
              "       [ 59.24248308],\n",
              "       [ 60.24958079],\n",
              "       [ 61.2566785 ],\n",
              "       [ 62.26377621],\n",
              "       [ 63.27087392],\n",
              "       [ 64.27797162],\n",
              "       [ 65.28506933],\n",
              "       [ 66.29216704],\n",
              "       [ 67.29926475],\n",
              "       [ 68.30636246],\n",
              "       [ 69.31346017],\n",
              "       [ 70.32055788],\n",
              "       [ 71.32765558],\n",
              "       [ 72.33475329],\n",
              "       [ 73.341851  ],\n",
              "       [ 74.34894871],\n",
              "       [ 75.35604642],\n",
              "       [ 76.36314413],\n",
              "       [ 77.37024183],\n",
              "       [ 78.37733954],\n",
              "       [ 79.38443725],\n",
              "       [ 80.39153496],\n",
              "       [ 81.39863267],\n",
              "       [ 82.40573038],\n",
              "       [ 83.41282808]])"
            ]
          },
          "metadata": {},
          "execution_count": 16
        }
      ]
    },
    {
      "cell_type": "code",
      "metadata": {
        "colab": {
          "base_uri": "https://localhost:8080/",
          "height": 282
        },
        "id": "ZZ-ZqPmiR_EV",
        "outputId": "01be6eae-020f-4949-a7f7-35e339c86cef"
      },
      "source": [
        "predictions = model.predict(X)\n",
        "plt.scatter(X,y)\n",
        "plt.plot(X,predictions, c='r')"
      ],
      "execution_count": null,
      "outputs": [
        {
          "output_type": "execute_result",
          "data": {
            "text/plain": [
              "[<matplotlib.lines.Line2D at 0x7f095ed69090>]"
            ]
          },
          "metadata": {},
          "execution_count": 17
        },
        {
          "output_type": "display_data",
          "data": {
            "image/png": "[encoded data removed]",
            "text/plain": [
              "<Figure size 432x288 with 1 Axes>"
            ]
          },
          "metadata": {
            "needs_background": "light"
          }
        }
      ]
    },
    {
      "cell_type": "markdown",
      "metadata": {
        "id": "6OYP-V3qSdZQ"
      },
      "source": [
        "Ci haut le modèle de régression linéaire réussit son apprentissage mais ce n'est pas le modèle adapté à ce genre de problème"
      ]
    },
    {
      "cell_type": "code",
      "metadata": {
        "id": "87Z6T_prS04g"
      },
      "source": [
        "# choix d un autre modèle de ML\n",
        "from sklearn.svm import  SVR"
      ],
      "execution_count": null,
      "outputs": []
    },
    {
      "cell_type": "code",
      "metadata": {
        "colab": {
          "base_uri": "https://localhost:8080/"
        },
        "id": "mL0rQolZTGMp",
        "outputId": "01c515b8-1801-4051-8815-6846262d1f14"
      },
      "source": [
        "model = SVR(C=100)  #création d un objet de la classe LinearRegression\n",
        "model.fit(X,y)\n",
        "model.score(X,y)"
      ],
      "execution_count": null,
      "outputs": [
        {
          "output_type": "stream",
          "name": "stderr",
          "text": [
            "/usr/local/lib/python3.7/dist-packages/sklearn/utils/validation.py:760: DataConversionWarning: A column-vector y was passed when a 1d array was expected. Please change the shape of y to (n_samples, ), for example using ravel().\n",
            "  y = column_or_1d(y, warn=True)\n"
          ]
        },
        {
          "output_type": "execute_result",
          "data": {
            "text/plain": [
              "0.9989763625652847"
            ]
          },
          "metadata": {},
          "execution_count": 19
        }
      ]
    },
    {
      "cell_type": "code",
      "metadata": {
        "colab": {
          "base_uri": "https://localhost:8080/"
        },
        "id": "0aqYuVe4TaN5",
        "outputId": "5d414f57-b9a1-4e2a-fb35-615a9dd043d4"
      },
      "source": [
        "model.predict(X)"
      ],
      "execution_count": null,
      "outputs": [
        {
          "output_type": "execute_result",
          "data": {
            "text/plain": [
              "array([ 1.6641761 ,  1.39176689,  1.17668673,  1.01725779,  0.91149249,\n",
              "        0.85713624,  0.8517129 ,  0.89257228,  0.97693876,  1.10195992,\n",
              "        1.26475456,  1.46245909,  1.69227153,  1.95149242,  2.23756201,\n",
              "        2.5480932 ,  2.88089977,  3.23401965,  3.60573297,  3.99457482,\n",
              "        4.39934275,  4.81909915,  5.25316865,  5.70113092,  6.16280923,\n",
              "        6.63825514,  7.12772985,  7.63168278,  8.15072771,  8.68561729,\n",
              "        9.23721623,  9.80647388, 10.39439654, 11.00202011, 11.63038346,\n",
              "       12.28050294, 12.95334849, 13.64982149, 14.37073485, 15.1167955 ,\n",
              "       15.88858949, 16.68656991, 17.51104784, 18.36218631, 19.23999751,\n",
              "       20.14434322, 21.07493855, 22.03135891, 23.01305025, 24.01934242,\n",
              "       25.04946558, 26.10256944, 27.17774513, 28.27404928, 29.3905302 ,\n",
              "       30.52625539, 31.68034016, 32.85197656, 34.04046208, 35.2452274 ,\n",
              "       36.46586225, 37.70213882, 38.9540316 , 40.22173295, 41.50566355,\n",
              "       42.80647676, 44.12505642, 45.46250716, 46.8201369 , 48.19943111,\n",
              "       49.60201863, 51.02962913, 52.48404234, 53.96702969, 55.48028903,\n",
              "       57.02537332, 58.60361468, 60.21604516, 61.86331582, 63.54561614,\n",
              "       65.26259553, 67.01328906, 68.7960496 , 70.60848819, 72.44742495,\n",
              "       74.30885213, 76.18791108, 78.07888459, 79.97520559, 81.86948311,\n",
              "       83.75354585, 85.61850333, 87.45482416, 89.25243074, 91.00080885,\n",
              "       92.68913074, 94.30638947, 95.84154236, 97.28366072, 98.62208321])"
            ]
          },
          "metadata": {},
          "execution_count": 20
        }
      ]
    },
    {
      "cell_type": "code",
      "metadata": {
        "colab": {
          "base_uri": "https://localhost:8080/",
          "height": 282
        },
        "id": "SA4Ndy8mTf71",
        "outputId": "ccfe8e3b-89bd-4dd2-c08f-9099e5d1ad8f"
      },
      "source": [
        "predictions = model.predict(X)\n",
        "plt.scatter(X,y)\n",
        "plt.plot(X,predictions, c='r',lw=3)"
      ],
      "execution_count": null,
      "outputs": [
        {
          "output_type": "execute_result",
          "data": {
            "text/plain": [
              "[<matplotlib.lines.Line2D at 0x7f095ec22b10>]"
            ]
          },
          "metadata": {},
          "execution_count": 22
        },
        {
          "output_type": "display_data",
          "data": {
            "image/png": "[encoded data removed]",
            "text/plain": [
              "<Figure size 432x288 with 1 Axes>"
            ]
          },
          "metadata": {
            "needs_background": "light"
          }
        }
      ]
    },
    {
      "cell_type": "markdown",
      "metadata": {
        "id": "kJEKZ1nITvyl"
      },
      "source": [
        "Alternativement à cette situation ,on peut créer des variables polynomiales càd faire du feature engineering"
      ]
    },
    {
      "cell_type": "markdown",
      "metadata": {
        "id": "ktOagH_yUPSV"
      },
      "source": [
        ""
      ]
    }
  ]
}