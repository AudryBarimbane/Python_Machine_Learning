{
  "nbformat": 4,
  "nbformat_minor": 0,
  "metadata": {
    "colab": {
      "name": "06_Sklearn_metric_regression.ipynb",
      "provenance": [],
      "collapsed_sections": [],
      "authorship_tag": "ABX9TyMH5kDvhrRNgj+y0PqheV/h",
      "include_colab_link": true
    },
    "kernelspec": {
      "name": "python3",
      "display_name": "Python 3"
    },
    "language_info": {
      "name": "python"
    }
  },
  "cells": [
    {
      "cell_type": "markdown",
      "metadata": {
        "id": "view-in-github",
        "colab_type": "text"
      },
      "source": [
        "<a href=\"https://colab.research.google.com/github/AudryBarimbane/Python_Machine_Learning/blob/main/06_Sklearn_metric_regression.ipynb\" target=\"_parent\"><img src=\"https://colab.research.google.com/assets/colab-badge.svg\" alt=\"Open In Colab\"/></a>"
      ]
    },
    {
      "cell_type": "markdown",
      "metadata": {
        "id": "I0PIeHkmcQ8G"
      },
      "source": [
        "MSE :Mean Squared Error\n",
        "\n",
        "MAE:Mean Absolute Error\n",
        "\n",
        "R2 : Coefficient de Détermination"
      ]
    },
    {
      "cell_type": "markdown",
      "metadata": {
        "id": "57KC_IwAcw0O"
      },
      "source": [
        "Ce tutoriel Machine Learning / Data Science explique en détail l'origine de l'erreur quadratique moyenne, de l'erreur absolue moyenne, et du coefficient de détermination R2.\n",
        "\n",
        "En Data Science et en statistiques, ces métriques sont utilisées pour évaluer la qualité d'un estimateurs de régression.\n",
        "\n",
        "Tout commence par le calcul de l'erreur résiduelle, définie par la différence entre les prédictions de l'estimateurs (y_pred) et les valeurs attendues (y_vrai)\n",
        "\n",
        "-L'erreur absolue moyenne calcule ainsi la valeur absolue de ces erreurs, pour en faire la moyenne. En anglais, on l'appelle \"Mean Absolute Error\" (MAE)\n",
        "\n",
        "-De son coté, l'erreur quadratique moyenne calcule le carré des erreurs résiduelles, pour en faire la moyenne. En anglais, on l'appelle \"Mean Squared Error\" (MSE)\n",
        "\n",
        "Ainsi, si un estimateur de distance de freinage effectue 2 prédictions qui donnent lieu a une erreur de 4 metres, et une erreur de 0 metre, la MAE calcule une erreur moyenne de 2 metres (ce qui est logique), tandis que la RMSE calcule une erreur moyenne de 2.8 metres (ce qui peut sembler étrange)\n",
        "Ce qui explique cette différence, c'est que la MSE accorde une importance exponentielle aux erreurs d'un estimateur.\n",
        "\n",
        "\n",
        "Ainsi, il est conseillé d'utiliser la MAE (erreur absolue moyenne) pour obtenir une moyenne représentative des erreurs de votre estimateur.\n",
        "En revanche, il est conseillé d'utiliser la MSE (erreur quadratique moyenne) quand vous voulez sélectionner un parmi plusieurs estimateurs, retenant l'estimateurs qui ne fait pas \"trop\" de grandes erreurs.\n",
        "\n",
        "D'une maniere générale, il est conseillé d'utiliser plusieurs métriques pour évaluer un estimateur, vous récoltez ainsi plus d'information sur vos erreurs :\n",
        "Calculer l'erreur moyenne, la médiane, les quantiles, et pourquoi pas l'histogramme de vos erreurs afin de déterminer la loi de distribution suivie.\n",
        "\n",
        "\n",
        "Le coefficient de Determination R2 est très connu, et implémenté de base dans la méthode score des estimateurs de régression. Il mesure le rapport des erreurs quadratiques avec la variance des données.\n",
        "Si par exemple, un modèle effectue des erreurs de l'ordre de 1000 euros pour prédire un prix d'appartement, mais que les prix du marché varient eux-mêmes de plus de 100,000 euros, alors il existe un rapport de 0.01. Le coefficient de détermination est donc R2 = 0.99"
      ]
    },
    {
      "cell_type": "code",
      "metadata": {
        "id": "qcRYMVR1cdyG"
      },
      "source": [
        "import numpy as np \n",
        "import matplotlib.pyplot as plt \n",
        "from sklearn.metrics import *\n"
      ],
      "execution_count": null,
      "outputs": []
    },
    {
      "cell_type": "code",
      "metadata": {
        "colab": {
          "base_uri": "https://localhost:8080/"
        },
        "id": "hTxdV_dScBIG",
        "outputId": "1d01693d-cf6c-466c-fa90-24861839d92b"
      },
      "source": [
        "  y = np.array([1])\n",
        "  y_pred = np.array([4])\n",
        "\n",
        "\n",
        "print('MAE: ',mean_absolute_error(y, y_pred))\n",
        "print('MSE: ',mean_squared_error(y, y_pred))\n",
        "\n"
      ],
      "execution_count": null,
      "outputs": [
        {
          "output_type": "stream",
          "name": "stdout",
          "text": [
            "MAE:  3.0\n",
            "MSE:  9.0\n"
          ]
        }
      ]
    },
    {
      "cell_type": "code",
      "metadata": {
        "colab": {
          "base_uri": "https://localhost:8080/"
        },
        "id": "nOtUbsy5euT-",
        "outputId": "8a3cc5f1-f8b6-434c-f28c-cc3a1cb8ca3b"
      },
      "source": [
        "  y = np.array([1, 2])\n",
        "  y_pred = np.array([5, 2])\n",
        "\n",
        "\n",
        "print('MAE: ',mean_absolute_error(y, y_pred))\n",
        "print('MSE: ',mean_squared_error(y, y_pred))\n"
      ],
      "execution_count": null,
      "outputs": [
        {
          "output_type": "stream",
          "name": "stdout",
          "text": [
            "MAE:  2.0\n",
            "MSE:  8.0\n"
          ]
        }
      ]
    },
    {
      "cell_type": "code",
      "metadata": {
        "colab": {
          "base_uri": "https://localhost:8080/"
        },
        "id": "2HYJquJ9exBa",
        "outputId": "e73da405-0542-4d7b-9b05-df0149145daa"
      },
      "source": [
        "#La RMSE retourne l'erreur à son échelle initiale,ce qui est plus compréhensible\n",
        "#Root mean squared error\n",
        "print('RMSE : ',np.sqrt(mean_squared_error(y, y_pred)))"
      ],
      "execution_count": null,
      "outputs": [
        {
          "output_type": "stream",
          "name": "stdout",
          "text": [
            "RMSE :  2.8284271247461903\n"
          ]
        }
      ]
    },
    {
      "cell_type": "markdown",
      "metadata": {
        "id": "ojdbUtrohN3V"
      },
      "source": [
        "Quand utilise la MSE plutôt que la MAE?\n",
        "\n",
        "MSE:vous accordez une grande importance aux grandes erreurs\n",
        "\n",
        "MAE:l'importance d'une erreur est linéaire avec son amplitude.Si le dataset contient des valeurs aberrantes(outliers).\n",
        "\n",
        "Il existe aussi la Median Absolute Error ,très peu sensible aux grandes erreurs \n",
        "\n",
        "MAE = median {|yvrai - ypred|}\n",
        "\n"
      ]
    },
    {
      "cell_type": "code",
      "metadata": {
        "colab": {
          "base_uri": "https://localhost:8080/"
        },
        "id": "h4SuYOMm50x8",
        "outputId": "3d8f40fd-6535-4bec-b76e-84955c6270ce"
      },
      "source": [
        " y = np.array([1, 2, 2, 3, 5, 2])\n",
        " y_pred = np.array([5, 2, 2, 5, 7, 1000])\n",
        "\n",
        "\n",
        "print('MAE: ',mean_absolute_error(y, y_pred))\n",
        "print('RMSE: ',np.sqrt(mean_squared_error(y, y_pred)))\n",
        "print('Median abs err: ',median_absolute_error(y, y_pred))"
      ],
      "execution_count": 19,
      "outputs": [
        {
          "output_type": "stream",
          "name": "stdout",
          "text": [
            "MAE:  167.66666666666666\n",
            "RMSE:  407.43670265044443\n",
            "Median abs err:  2.0\n"
          ]
        }
      ]
    },
    {
      "cell_type": "markdown",
      "metadata": {
        "id": "lkLB65XQ6jnR"
      },
      "source": [
        "Chaque mesure possède des avantages et des inconvénients...laquelle choisr?\n",
        "\n",
        "    =>Utilisez les toutes !\n",
        "    \n",
        "  Vous récolterez ainsi beaucoup plus d'information ! \n"
      ]
    }
  ]
}