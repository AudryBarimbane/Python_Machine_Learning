{
  "nbformat": 4,
  "nbformat_minor": 0,
  "metadata": {
    "colab": {
      "name": "09_sklearn_prepro_encodage.ipynb",
      "provenance": [],
      "collapsed_sections": [],
      "authorship_tag": "ABX9TyPCsnUqBA/KU6O3EoT33T7w",
      "include_colab_link": true
    },
    "kernelspec": {
      "name": "python3",
      "display_name": "Python 3"
    },
    "language_info": {
      "name": "python"
    }
  },
  "cells": [
    {
      "cell_type": "markdown",
      "metadata": {
        "id": "view-in-github",
        "colab_type": "text"
      },
      "source": [
        "<a href=\"https://colab.research.google.com/github/AudryBarimbane/Python_Machine_Learning/blob/main/09_sklearn_prepro_encodage.ipynb\" target=\"_parent\"><img src=\"https://colab.research.google.com/assets/colab-badge.svg\" alt=\"Open In Colab\"/></a>"
      ]
    },
    {
      "cell_type": "markdown",
      "metadata": {
        "id": "pdwoX1YXdCet"
      },
      "source": [
        "**Encodage**\n",
        "\n",
        "Pour faire des calculs ,une machine a besoin de traiter des valeurs numériques.\n",
        "\n",
        "Si notre dataset contient des données qualitatives comme des mots ,alors il est indispensable de convertir ces données en valeurs numériques : on parler d'**encodage**.\n",
        "\n",
        "EN sklearn , il existe 5 transformers d'encodage :\n",
        "\n",
        "-LabelBinarizer\n",
        "\n",
        "-LabelEncoder\n",
        "\n",
        "-MultiLabelBinarizer\n",
        "\n",
        "-OneHotEncoder\n",
        "\n",
        "-ordinalEncoder\n",
        "\n",
        "\n",
        "Il existe 2 types d'encodage :\n",
        "\n",
        "-Encodage ordinal \n",
        "\n",
        "-Encodage OneHot\n"
      ]
    },
    {
      "cell_type": "markdown",
      "metadata": {
        "id": "dHNyfyyWeVc8"
      },
      "source": [
        "**Encodage ordinal**\n",
        "\n",
        "Associe à chaque catégorie ou classe d'une variable à une valeur numérique \n",
        "\n",
        "Exemple :\n",
        "chat     0\n",
        "\n",
        "chat     0\n",
        "\n",
        "chien    1\n",
        "\n",
        "oiseau   2\n",
        "\n",
        "On dispose pour cela des transformer :LabelEncoder() et OrdinalEncoder()"
      ]
    },
    {
      "cell_type": "markdown",
      "metadata": {
        "id": "E_30WQcdfE0y"
      },
      "source": [
        "**LabelEncoder** \n",
        "\n",
        "Encode chaque classe de la variable y en une valeur numérique(0,n_classe-1)\n",
        "\n",
        "Note : la méthode inverse_transform  permet de décoder les données"
      ]
    },
    {
      "cell_type": "markdown",
      "metadata": {
        "id": "kSYu89H1fDnF"
      },
      "source": [
        ""
      ]
    },
    {
      "cell_type": "code",
      "metadata": {
        "id": "JkDNLv-ncvbZ"
      },
      "source": [
        "import numpy as np\n",
        "import matplotlib.pyplot as plt\n",
        "from sklearn.preprocessing import LabelEncoder"
      ],
      "execution_count": 2,
      "outputs": []
    },
    {
      "cell_type": "code",
      "metadata": {
        "id": "iI2iGdCcgN5i"
      },
      "source": [
        "y = np.array(['chat', 'chien', 'chat', 'oiseau']) "
      ],
      "execution_count": 3,
      "outputs": []
    },
    {
      "cell_type": "markdown",
      "metadata": {
        "id": "eFnvPyxwg0qm"
      },
      "source": [
        "Le transformer LabelEncoder a été conçu pour encoder la variable y càd qu en principe que ce transformer ne permet que de traiter une seule colonne\n"
      ]
    },
    {
      "cell_type": "code",
      "metadata": {
        "colab": {
          "base_uri": "https://localhost:8080/"
        },
        "id": "b2YWCkodgaVW",
        "outputId": "b2291b65-9b17-47ba-a4d6-ff31ce10d819"
      },
      "source": [
        "encoder = LabelEncoder()\n",
        "encoder.fit_transform(y)\n"
      ],
      "execution_count": 4,
      "outputs": [
        {
          "output_type": "execute_result",
          "data": {
            "text/plain": [
              "array([0, 1, 0, 2])"
            ]
          },
          "metadata": {},
          "execution_count": 4
        }
      ]
    },
    {
      "cell_type": "code",
      "metadata": {
        "id": "agf9Fbe-hcpx"
      },
      "source": [
        "#encoder.classes_"
      ],
      "execution_count": 5,
      "outputs": []
    },
    {
      "cell_type": "code",
      "metadata": {
        "id": "xhyTW2wjhl-s"
      },
      "source": [
        "#encoder.transform(y)"
      ],
      "execution_count": 6,
      "outputs": []
    },
    {
      "cell_type": "code",
      "metadata": {
        "colab": {
          "base_uri": "https://localhost:8080/"
        },
        "id": "Fg5a3b-Th8A2",
        "outputId": "7f54bc4c-074a-43f1-ac75-6a0ea3ea6a23"
      },
      "source": [
        "encoder.inverse_transform(np.array([0,0,2,2]))"
      ],
      "execution_count": 7,
      "outputs": [
        {
          "output_type": "execute_result",
          "data": {
            "text/plain": [
              "array(['chat', 'chat', 'oiseau', 'oiseau'], dtype='<U6')"
            ]
          },
          "metadata": {},
          "execution_count": 7
        }
      ]
    },
    {
      "cell_type": "markdown",
      "metadata": {
        "id": "4694aq99iYPw"
      },
      "source": [
        "**Ordinal Encoder**\n",
        "\n",
        "Encode les catégories des variables X en valeurs numériques(0,n_classes-1)\n",
        "\n",
        "X1        X2    \n",
        "\n",
        "chat      poils        0     1\n",
        "\n",
        "chien      poils        1    1\n",
        "\n",
        "\n",
        "chat        poils      0     1\n",
        "\n",
        "\n",
        "oiseau     plumes      2     0\n",
        "\n",
        "Note : c'est l'équivalent de LabelEncoder , mais pour les feautures X\n"
      ]
    },
    {
      "cell_type": "markdown",
      "metadata": {
        "id": "krkCk7RlvbuC"
      },
      "source": [
        "**Ordinal Encoder**"
      ]
    },
    {
      "cell_type": "code",
      "metadata": {
        "id": "O5kDN6QdvXgd"
      },
      "source": [
        "#Ordinal Encoder\n",
        "from sklearn.preprocessing import OrdinalEncoder\n"
      ],
      "execution_count": 8,
      "outputs": []
    },
    {
      "cell_type": "code",
      "metadata": {
        "id": "l5hAYgfz50m3"
      },
      "source": [
        "X = np.array([['chat','poils'],\n",
        "              ['chien', 'poils'],\n",
        "              ['chat','poils'],\n",
        "              ['oiseau','plumes']])"
      ],
      "execution_count": 14,
      "outputs": []
    },
    {
      "cell_type": "code",
      "metadata": {
        "id": "mc4HCDKC8ptV"
      },
      "source": [
        ""
      ],
      "execution_count": null,
      "outputs": []
    },
    {
      "cell_type": "code",
      "metadata": {
        "colab": {
          "base_uri": "https://localhost:8080/"
        },
        "id": "6tGVYhDK67ph",
        "outputId": "5f537832-4063-47f4-dfea-12da7cda7d06"
      },
      "source": [
        "encoder = OrdinalEncoder()\n",
        "encoder.fit_transform(X)"
      ],
      "execution_count": 15,
      "outputs": [
        {
          "output_type": "execute_result",
          "data": {
            "text/plain": [
              "array([[0., 1.],\n",
              "       [1., 1.],\n",
              "       [0., 1.],\n",
              "       [2., 0.]])"
            ]
          },
          "metadata": {},
          "execution_count": 15
        }
      ]
    },
    {
      "cell_type": "markdown",
      "metadata": {
        "id": "A3oxp8jI8ElT"
      },
      "source": [
        "chat       0\n",
        "\n",
        "chat       0\n",
        "\n",
        "chien      1\n",
        "\n",
        "oiseau     2\n",
        "\n",
        "chien      1\n",
        "\n",
        "0 < 1 < 2 \n",
        "\n",
        "=> chat < chien < oiseau ???  ça n 'a pas de sens \n",
        "\n",
        "Cela risque de pénaliser la plupart des modèles , à l'exception des modèles qui sont basés sur les arbres de décision car ceux là ne sont pas sensibles aux relations d'ordres , dans les données qu'on leur présente.\n",
        "Pour éviter cela , il existe un autre type d'encodage :Encodage **ONE HoT**"
      ]
    },
    {
      "cell_type": "markdown",
      "metadata": {
        "id": "yc6celNw9EVX"
      },
      "source": [
        "**Encodage ONE HOT** \n",
        "\n",
        "\n",
        "chat          1  0  0\n",
        " \n",
        "chat          1  0  0\n",
        "\n",
        "chien         0   1  0\n",
        "\n",
        "oiseau        0   0  1\n",
        "\n",
        "chien         0   1  0\n",
        "\n",
        "\n",
        "\n",
        "Pour faire cela en sklearn , on dispose de 3 transformer :\n",
        " -LabelBinarizer()\n",
        " -MultiLabelBinarizer()\n",
        " -OneHotEncoder()\n",
        "\n",
        " \n"
      ]
    },
    {
      "cell_type": "markdown",
      "metadata": {
        "id": "B19aPUfi-JKm"
      },
      "source": [
        "**LABEL BINARIZER**\n",
        "\n",
        "Encode chaque classe de la variable y en One-Hot\n",
        "\n",
        "chat          1  0  0\n",
        " \n",
        "chien         0   1  0\n",
        "\n",
        "chat          1  0  0\n",
        "\n",
        "oiseau        0   0  1\n",
        "\n",
        "Note : la méthode inverse_transform  permet de décoder les données \n",
        "\n",
        "\n"
      ]
    },
    {
      "cell_type": "code",
      "metadata": {
        "id": "9j0MaUiI9LXy"
      },
      "source": [
        "from sklearn.preprocessing import  LabelBinarizer"
      ],
      "execution_count": 16,
      "outputs": []
    },
    {
      "cell_type": "code",
      "metadata": {
        "id": "TkR39hKo_Gn5"
      },
      "source": [
        "y = np.array(['chat', 'chien', 'chat', 'oiseau'])"
      ],
      "execution_count": 17,
      "outputs": []
    },
    {
      "cell_type": "code",
      "metadata": {
        "colab": {
          "base_uri": "https://localhost:8080/"
        },
        "id": "Wv-l37Mz_RuX",
        "outputId": "3497c7cb-b7f5-4a06-d49a-5d28be1efc01"
      },
      "source": [
        "encoder = LabelBinarizer()\n",
        "encoder.fit_transform(y)"
      ],
      "execution_count": 18,
      "outputs": [
        {
          "output_type": "execute_result",
          "data": {
            "text/plain": [
              "array([[1, 0, 0],\n",
              "       [0, 1, 0],\n",
              "       [1, 0, 0],\n",
              "       [0, 0, 1]])"
            ]
          },
          "metadata": {},
          "execution_count": 18
        }
      ]
    },
    {
      "cell_type": "markdown",
      "metadata": {
        "id": "_8OUyyek_gRK"
      },
      "source": [
        "Encodage , One Hot peut présenter un inconvénient , en effet ,\n",
        "dans le cas où on a un très grand nombre de catégories , on va avoir un tableau extrêment large et difficile à manipuler , mais en réalité , ce n'est pas vraiment un problème.Bien que large , ce tableau ne va pas péser trop lourd sur la mémoire de notre ordinateur.\n",
        "\n",
        "=> Matrice creuse(sparse matrix) : matrice remplie en grande majorité de 0.\n",
        "On peut représenter la sparse matrix en format très léger dans lequel , le chiffre 0 n'est tout simplement pas stocké dans la mémoire de l'ordinateur.\n",
        "\n",
        "\n",
        "Exemple :\n",
        "\n",
        "a 0 0 0 0\n",
        "0 0 b 0 0\n",
        "0 0 0 0 0\n",
        "0 0 0 0 c\n",
        "0 0 0 0 0\n",
        "\n",
        "values = [a,b,c]\n",
        "\n",
        "rows = [0,1,3]\n",
        "\n",
        "cols = [0,2,4]\n",
        "Ce format(values,rows,cols) s'appelle COO\n",
        "En sklearn , le format qu'on utilise en CSR(compressed sparse row)"
      ]
    },
    {
      "cell_type": "code",
      "metadata": {
        "colab": {
          "base_uri": "https://localhost:8080/"
        },
        "id": "x8J9O3O7Cpph",
        "outputId": "94d251b9-64d0-4e6d-fe2f-8fb7e7ff2671"
      },
      "source": [
        "#format compressé avec sklearn\n",
        "encoder = LabelBinarizer(sparse_output=True)\n",
        "encoder.fit_transform(y)"
      ],
      "execution_count": 19,
      "outputs": [
        {
          "output_type": "execute_result",
          "data": {
            "text/plain": [
              "<4x3 sparse matrix of type '<class 'numpy.int64'>'\n",
              "\twith 4 stored elements in Compressed Sparse Row format>"
            ]
          },
          "metadata": {},
          "execution_count": 19
        }
      ]
    },
    {
      "cell_type": "markdown",
      "metadata": {
        "id": "eLyRBeyvDOuN"
      },
      "source": [
        "**One-Hot Encoder** "
      ]
    },
    {
      "cell_type": "code",
      "metadata": {
        "id": "nDJz7DfwDpjd"
      },
      "source": [
        "from sklearn.preprocessing import OneHotEncoder"
      ],
      "execution_count": 21,
      "outputs": []
    },
    {
      "cell_type": "code",
      "metadata": {
        "colab": {
          "base_uri": "https://localhost:8080/"
        },
        "id": "-rDyMiNcDBxS",
        "outputId": "f0b6102e-4160-4e09-d93e-b2f57fd19385"
      },
      "source": [
        "# Compressed Sparse Row est le choix par défaut pour OneHotEncoder\n",
        "encoder =  OneHotEncoder()\n",
        "encoder.fit_transform(X)\n"
      ],
      "execution_count": 23,
      "outputs": [
        {
          "output_type": "execute_result",
          "data": {
            "text/plain": [
              "<4x5 sparse matrix of type '<class 'numpy.float64'>'\n",
              "\twith 8 stored elements in Compressed Sparse Row format>"
            ]
          },
          "metadata": {},
          "execution_count": 23
        }
      ]
    },
    {
      "cell_type": "markdown",
      "metadata": {
        "id": "8gqJ9po9E4q0"
      },
      "source": [
        "Encoding :\n",
        " -encodage ordinal :(y:LabelEncoder , X :OrdinalEncoder)\n",
        " \n",
        " -encodage one-hot : (y:LabeBinarizer et MutliLabelBinarizer, X:OneHotEncoder)\n",
        "\n",
        " Notes :inverse_transform pour vos prédictions \n",
        "\n",
        "        sparse=True pour OneHotEncoder\n",
        "\n",
        "Attention :sklearn v22.0 gère mal les catégories inconnues  \n",
        "    \n",
        "\n"
      ]
    },
    {
      "cell_type": "code",
      "metadata": {
        "colab": {
          "base_uri": "https://localhost:8080/",
          "height": 374
        },
        "id": "ICpwt9oqFn82",
        "outputId": "0e0adcc4-bfe2-49d6-e362-c7f33fb99862"
      },
      "source": [
        "y_test = np.array(['poisson'])\n",
        "encoder.transform(y_test)"
      ],
      "execution_count": 25,
      "outputs": [
        {
          "output_type": "error",
          "ename": "ValueError",
          "evalue": "ignored",
          "traceback": [
            "\u001b[0;31m---------------------------------------------------------------------------\u001b[0m",
            "\u001b[0;31mValueError\u001b[0m                                Traceback (most recent call last)",
            "\u001b[0;32m<ipython-input-25-1bba005fc6c1>\u001b[0m in \u001b[0;36m<module>\u001b[0;34m()\u001b[0m\n\u001b[1;32m      1\u001b[0m \u001b[0my_test\u001b[0m \u001b[0;34m=\u001b[0m \u001b[0mnp\u001b[0m\u001b[0;34m.\u001b[0m\u001b[0marray\u001b[0m\u001b[0;34m(\u001b[0m\u001b[0;34m[\u001b[0m\u001b[0;34m'poisson'\u001b[0m\u001b[0;34m]\u001b[0m\u001b[0;34m)\u001b[0m\u001b[0;34m\u001b[0m\u001b[0;34m\u001b[0m\u001b[0m\n\u001b[0;32m----> 2\u001b[0;31m \u001b[0mencoder\u001b[0m\u001b[0;34m.\u001b[0m\u001b[0mtransform\u001b[0m\u001b[0;34m(\u001b[0m\u001b[0my_test\u001b[0m\u001b[0;34m)\u001b[0m\u001b[0;34m\u001b[0m\u001b[0;34m\u001b[0m\u001b[0m\n\u001b[0m",
            "\u001b[0;32m/usr/local/lib/python3.7/dist-packages/sklearn/preprocessing/_encoders.py\u001b[0m in \u001b[0;36mtransform\u001b[0;34m(self, X)\u001b[0m\n\u001b[1;32m    388\u001b[0m         \u001b[0mcheck_is_fitted\u001b[0m\u001b[0;34m(\u001b[0m\u001b[0mself\u001b[0m\u001b[0;34m)\u001b[0m\u001b[0;34m\u001b[0m\u001b[0;34m\u001b[0m\u001b[0m\n\u001b[1;32m    389\u001b[0m         \u001b[0;31m# validation of X happens in _check_X called by _transform\u001b[0m\u001b[0;34m\u001b[0m\u001b[0;34m\u001b[0m\u001b[0;34m\u001b[0m\u001b[0m\n\u001b[0;32m--> 390\u001b[0;31m         \u001b[0mX_int\u001b[0m\u001b[0;34m,\u001b[0m \u001b[0mX_mask\u001b[0m \u001b[0;34m=\u001b[0m \u001b[0mself\u001b[0m\u001b[0;34m.\u001b[0m\u001b[0m_transform\u001b[0m\u001b[0;34m(\u001b[0m\u001b[0mX\u001b[0m\u001b[0;34m,\u001b[0m \u001b[0mhandle_unknown\u001b[0m\u001b[0;34m=\u001b[0m\u001b[0mself\u001b[0m\u001b[0;34m.\u001b[0m\u001b[0mhandle_unknown\u001b[0m\u001b[0;34m)\u001b[0m\u001b[0;34m\u001b[0m\u001b[0;34m\u001b[0m\u001b[0m\n\u001b[0m\u001b[1;32m    391\u001b[0m \u001b[0;34m\u001b[0m\u001b[0m\n\u001b[1;32m    392\u001b[0m         \u001b[0mn_samples\u001b[0m\u001b[0;34m,\u001b[0m \u001b[0mn_features\u001b[0m \u001b[0;34m=\u001b[0m \u001b[0mX_int\u001b[0m\u001b[0;34m.\u001b[0m\u001b[0mshape\u001b[0m\u001b[0;34m\u001b[0m\u001b[0;34m\u001b[0m\u001b[0m\n",
            "\u001b[0;32m/usr/local/lib/python3.7/dist-packages/sklearn/preprocessing/_encoders.py\u001b[0m in \u001b[0;36m_transform\u001b[0;34m(self, X, handle_unknown)\u001b[0m\n\u001b[1;32m    100\u001b[0m \u001b[0;34m\u001b[0m\u001b[0m\n\u001b[1;32m    101\u001b[0m     \u001b[0;32mdef\u001b[0m \u001b[0m_transform\u001b[0m\u001b[0;34m(\u001b[0m\u001b[0mself\u001b[0m\u001b[0;34m,\u001b[0m \u001b[0mX\u001b[0m\u001b[0;34m,\u001b[0m \u001b[0mhandle_unknown\u001b[0m\u001b[0;34m=\u001b[0m\u001b[0;34m'error'\u001b[0m\u001b[0;34m)\u001b[0m\u001b[0;34m:\u001b[0m\u001b[0;34m\u001b[0m\u001b[0;34m\u001b[0m\u001b[0m\n\u001b[0;32m--> 102\u001b[0;31m         \u001b[0mX_list\u001b[0m\u001b[0;34m,\u001b[0m \u001b[0mn_samples\u001b[0m\u001b[0;34m,\u001b[0m \u001b[0mn_features\u001b[0m \u001b[0;34m=\u001b[0m \u001b[0mself\u001b[0m\u001b[0;34m.\u001b[0m\u001b[0m_check_X\u001b[0m\u001b[0;34m(\u001b[0m\u001b[0mX\u001b[0m\u001b[0;34m)\u001b[0m\u001b[0;34m\u001b[0m\u001b[0;34m\u001b[0m\u001b[0m\n\u001b[0m\u001b[1;32m    103\u001b[0m \u001b[0;34m\u001b[0m\u001b[0m\n\u001b[1;32m    104\u001b[0m         \u001b[0mX_int\u001b[0m \u001b[0;34m=\u001b[0m \u001b[0mnp\u001b[0m\u001b[0;34m.\u001b[0m\u001b[0mzeros\u001b[0m\u001b[0;34m(\u001b[0m\u001b[0;34m(\u001b[0m\u001b[0mn_samples\u001b[0m\u001b[0;34m,\u001b[0m \u001b[0mn_features\u001b[0m\u001b[0;34m)\u001b[0m\u001b[0;34m,\u001b[0m \u001b[0mdtype\u001b[0m\u001b[0;34m=\u001b[0m\u001b[0mnp\u001b[0m\u001b[0;34m.\u001b[0m\u001b[0mint\u001b[0m\u001b[0;34m)\u001b[0m\u001b[0;34m\u001b[0m\u001b[0;34m\u001b[0m\u001b[0m\n",
            "\u001b[0;32m/usr/local/lib/python3.7/dist-packages/sklearn/preprocessing/_encoders.py\u001b[0m in \u001b[0;36m_check_X\u001b[0;34m(self, X)\u001b[0m\n\u001b[1;32m     41\u001b[0m         \u001b[0;32mif\u001b[0m \u001b[0;32mnot\u001b[0m \u001b[0;34m(\u001b[0m\u001b[0mhasattr\u001b[0m\u001b[0;34m(\u001b[0m\u001b[0mX\u001b[0m\u001b[0;34m,\u001b[0m \u001b[0;34m'iloc'\u001b[0m\u001b[0;34m)\u001b[0m \u001b[0;32mand\u001b[0m \u001b[0mgetattr\u001b[0m\u001b[0;34m(\u001b[0m\u001b[0mX\u001b[0m\u001b[0;34m,\u001b[0m \u001b[0;34m'ndim'\u001b[0m\u001b[0;34m,\u001b[0m \u001b[0;36m0\u001b[0m\u001b[0;34m)\u001b[0m \u001b[0;34m==\u001b[0m \u001b[0;36m2\u001b[0m\u001b[0;34m)\u001b[0m\u001b[0;34m:\u001b[0m\u001b[0;34m\u001b[0m\u001b[0;34m\u001b[0m\u001b[0m\n\u001b[1;32m     42\u001b[0m             \u001b[0;31m# if not a dataframe, do normal check_array validation\u001b[0m\u001b[0;34m\u001b[0m\u001b[0;34m\u001b[0m\u001b[0;34m\u001b[0m\u001b[0m\n\u001b[0;32m---> 43\u001b[0;31m             \u001b[0mX_temp\u001b[0m \u001b[0;34m=\u001b[0m \u001b[0mcheck_array\u001b[0m\u001b[0;34m(\u001b[0m\u001b[0mX\u001b[0m\u001b[0;34m,\u001b[0m \u001b[0mdtype\u001b[0m\u001b[0;34m=\u001b[0m\u001b[0;32mNone\u001b[0m\u001b[0;34m)\u001b[0m\u001b[0;34m\u001b[0m\u001b[0;34m\u001b[0m\u001b[0m\n\u001b[0m\u001b[1;32m     44\u001b[0m             if (not hasattr(X, 'dtype')\n\u001b[1;32m     45\u001b[0m                     and np.issubdtype(X_temp.dtype, np.str_)):\n",
            "\u001b[0;32m/usr/local/lib/python3.7/dist-packages/sklearn/utils/validation.py\u001b[0m in \u001b[0;36mcheck_array\u001b[0;34m(array, accept_sparse, accept_large_sparse, dtype, order, copy, force_all_finite, ensure_2d, allow_nd, ensure_min_samples, ensure_min_features, warn_on_dtype, estimator)\u001b[0m\n\u001b[1;32m    554\u001b[0m                     \u001b[0;34m\"Reshape your data either using array.reshape(-1, 1) if \"\u001b[0m\u001b[0;34m\u001b[0m\u001b[0;34m\u001b[0m\u001b[0m\n\u001b[1;32m    555\u001b[0m                     \u001b[0;34m\"your data has a single feature or array.reshape(1, -1) \"\u001b[0m\u001b[0;34m\u001b[0m\u001b[0;34m\u001b[0m\u001b[0m\n\u001b[0;32m--> 556\u001b[0;31m                     \"if it contains a single sample.\".format(array))\n\u001b[0m\u001b[1;32m    557\u001b[0m \u001b[0;34m\u001b[0m\u001b[0m\n\u001b[1;32m    558\u001b[0m         \u001b[0;31m# in the future np.flexible dtypes will be handled like object dtypes\u001b[0m\u001b[0;34m\u001b[0m\u001b[0;34m\u001b[0m\u001b[0;34m\u001b[0m\u001b[0m\n",
            "\u001b[0;31mValueError\u001b[0m: Expected 2D array, got 1D array instead:\narray=['poisson'].\nReshape your data either using array.reshape(-1, 1) if your data has a single feature or array.reshape(1, -1) if it contains a single sample."
          ]
        }
      ]
    }
  ]
}