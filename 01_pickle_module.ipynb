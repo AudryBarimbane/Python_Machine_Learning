{
  "nbformat": 4,
  "nbformat_minor": 0,
  "metadata": {
    "colab": {
      "name": "01_pickle_module.ipynb",
      "provenance": [],
      "collapsed_sections": [],
      "authorship_tag": "ABX9TyN0cmp7c72FvI/ycaKfzNpu",
      "include_colab_link": true
    },
    "kernelspec": {
      "name": "python3",
      "display_name": "Python 3"
    },
    "language_info": {
      "name": "python"
    }
  },
  "cells": [
    {
      "cell_type": "markdown",
      "metadata": {
        "id": "view-in-github",
        "colab_type": "text"
      },
      "source": [
        "<a href=\"https://colab.research.google.com/github/AudryBarimbane/Python_Machine_Learning/blob/main/01_pickle_module.ipynb\" target=\"_parent\"><img src=\"https://colab.research.google.com/assets/colab-badge.svg\" alt=\"Open In Colab\"/></a>"
      ]
    },
    {
      "cell_type": "markdown",
      "metadata": {
        "id": "yVoBKDAOJprz"
      },
      "source": [
        "**Module pickle**\n",
        "\n",
        "Le module pickle permet de sauvegarder dans un fichier,au format binaire ,n'importe quel objet python.\n",
        "Il permet de stocker et de restaurer un objet python tel quel sans aucune manipulation supplémentaire.\n"
      ]
    },
    {
      "cell_type": "code",
      "metadata": {
        "id": "IVVpbPchJSaM"
      },
      "source": [
        "import pickle \n",
        "import string"
      ],
      "execution_count": 4,
      "outputs": []
    },
    {
      "cell_type": "markdown",
      "metadata": {
        "id": "1EwWrLYvP30q"
      },
      "source": [
        "**Liste**"
      ]
    },
    {
      "cell_type": "code",
      "metadata": {
        "colab": {
          "base_uri": "https://localhost:8080/"
        },
        "id": "w7-zngweKfCU",
        "outputId": "8fa55ab3-1870-4c8f-885a-d9461d855303"
      },
      "source": [
        "#Création de la liste L avec toutes les lettres de l'alphabet \n",
        "L = list(string.ascii_letters)\n",
        "print(L)"
      ],
      "execution_count": 29,
      "outputs": [
        {
          "output_type": "stream",
          "name": "stdout",
          "text": [
            "['a', 'b', 'c', 'd', 'e', 'f', 'g', 'h', 'i', 'j', 'k', 'l', 'm', 'n', 'o', 'p', 'q', 'r', 's', 't', 'u', 'v', 'w', 'x', 'y', 'z', 'A', 'B', 'C', 'D', 'E', 'F', 'G', 'H', 'I', 'J', 'K', 'L', 'M', 'N', 'O', 'P', 'Q', 'R', 'S', 'T', 'U', 'V', 'W', 'X', 'Y', 'Z']\n"
          ]
        }
      ]
    },
    {
      "cell_type": "code",
      "metadata": {
        "id": "__E8M9tuKe2L"
      },
      "source": [
        "#sauvegarde de l'objet L dans un fichier 'myPickleFile' grâce à la méthode dump du module pickle\n",
        "#le module pickle écrit les données uniquement dans un fichier binaire ouvert en mode binaire\n",
        "with open('myPickleFile','wb') as file1:\n",
        "  pickle.dump(L,file1)\n"
      ],
      "execution_count": 30,
      "outputs": []
    },
    {
      "cell_type": "code",
      "metadata": {
        "id": "pr87U7-eLPZ0"
      },
      "source": [
        "with open('myPickleFile','rb') as file1:\n",
        "  file1.read()\n"
      ],
      "execution_count": 40,
      "outputs": []
    },
    {
      "cell_type": "code",
      "metadata": {
        "colab": {
          "base_uri": "https://localhost:8080/"
        },
        "id": "Z8Wa8EC8L-xQ",
        "outputId": "96b48a0a-8149-49b0-b51b-a1451833f2d0"
      },
      "source": [
        "OL = None\n",
        "print(OL)"
      ],
      "execution_count": 41,
      "outputs": [
        {
          "output_type": "stream",
          "name": "stdout",
          "text": [
            "None\n"
          ]
        }
      ]
    },
    {
      "cell_type": "code",
      "metadata": {
        "colab": {
          "base_uri": "https://localhost:8080/"
        },
        "id": "vIg-ZjkAMKZ6",
        "outputId": "09c9afa2-2f9f-4686-f051-c49f80910ba0"
      },
      "source": [
        "with open('myPickleFile','rb') as file1:\n",
        "  OL = pickle.load(file1)\n",
        "type(OL)"
      ],
      "execution_count": 25,
      "outputs": [
        {
          "output_type": "execute_result",
          "data": {
            "text/plain": [
              "list"
            ]
          },
          "metadata": {},
          "execution_count": 25
        }
      ]
    },
    {
      "cell_type": "code",
      "metadata": {
        "colab": {
          "base_uri": "https://localhost:8080/"
        },
        "id": "-Oc1vGHBN0L5",
        "outputId": "6521c303-ffed-4b87-fc0c-c748b79fc41c"
      },
      "source": [
        "print(OL)"
      ],
      "execution_count": 27,
      "outputs": [
        {
          "output_type": "stream",
          "name": "stdout",
          "text": [
            "['a', 'b', 'c', 'd', 'e', 'f', 'g', 'h', 'i', 'j', 'k', 'l', 'm', 'n', 'o', 'p', 'q', 'r', 's', 't', 'u', 'v', 'w', 'x', 'y', 'z', 'A', 'B', 'C', 'D', 'E', 'F', 'G', 'H', 'I', 'J', 'K', 'L', 'M', 'N', 'O', 'P', 'Q', 'R', 'S', 'T', 'U', 'V', 'W', 'X', 'Y', 'Z']\n"
          ]
        }
      ]
    },
    {
      "cell_type": "code",
      "metadata": {
        "colab": {
          "base_uri": "https://localhost:8080/"
        },
        "id": "NO2GJIPtN5wX",
        "outputId": "6c7d062d-5a9d-40a6-8572-60e17fc8612a"
      },
      "source": [
        "L == L"
      ],
      "execution_count": 28,
      "outputs": [
        {
          "output_type": "execute_result",
          "data": {
            "text/plain": [
              "True"
            ]
          },
          "metadata": {},
          "execution_count": 28
        }
      ]
    },
    {
      "cell_type": "markdown",
      "metadata": {
        "id": "XLC9t-uLP7_B"
      },
      "source": [
        "**Tuple**"
      ]
    },
    {
      "cell_type": "code",
      "metadata": {
        "colab": {
          "base_uri": "https://localhost:8080/"
        },
        "id": "uVenZncwP-GA",
        "outputId": "1e921a9e-6817-4e4d-a119-78732a978afd"
      },
      "source": [
        "T = tuple(string.ascii_letters)\n",
        "T"
      ],
      "execution_count": 31,
      "outputs": [
        {
          "output_type": "execute_result",
          "data": {
            "text/plain": [
              "('a',\n",
              " 'b',\n",
              " 'c',\n",
              " 'd',\n",
              " 'e',\n",
              " 'f',\n",
              " 'g',\n",
              " 'h',\n",
              " 'i',\n",
              " 'j',\n",
              " 'k',\n",
              " 'l',\n",
              " 'm',\n",
              " 'n',\n",
              " 'o',\n",
              " 'p',\n",
              " 'q',\n",
              " 'r',\n",
              " 's',\n",
              " 't',\n",
              " 'u',\n",
              " 'v',\n",
              " 'w',\n",
              " 'x',\n",
              " 'y',\n",
              " 'z',\n",
              " 'A',\n",
              " 'B',\n",
              " 'C',\n",
              " 'D',\n",
              " 'E',\n",
              " 'F',\n",
              " 'G',\n",
              " 'H',\n",
              " 'I',\n",
              " 'J',\n",
              " 'K',\n",
              " 'L',\n",
              " 'M',\n",
              " 'N',\n",
              " 'O',\n",
              " 'P',\n",
              " 'Q',\n",
              " 'R',\n",
              " 'S',\n",
              " 'T',\n",
              " 'U',\n",
              " 'V',\n",
              " 'W',\n",
              " 'X',\n",
              " 'Y',\n",
              " 'Z')"
            ]
          },
          "metadata": {},
          "execution_count": 31
        }
      ]
    },
    {
      "cell_type": "code",
      "metadata": {
        "id": "zxpG-fckQIdq"
      },
      "source": [
        "with open('myPickleFile','wb') as f1 : \n",
        "    pickle.dump(T,f1)"
      ],
      "execution_count": 32,
      "outputs": []
    },
    {
      "cell_type": "code",
      "metadata": {
        "colab": {
          "base_uri": "https://localhost:8080/"
        },
        "id": "kg6Ntm6iSnTQ",
        "outputId": "c17b215e-0d84-4411-c6d6-73200d8da882"
      },
      "source": [
        "with open('myPickleFile', 'rb') as f1:\n",
        "  OT = pickle.load(f1)\n",
        "OT"
      ],
      "execution_count": 34,
      "outputs": [
        {
          "output_type": "execute_result",
          "data": {
            "text/plain": [
              "('a',\n",
              " 'b',\n",
              " 'c',\n",
              " 'd',\n",
              " 'e',\n",
              " 'f',\n",
              " 'g',\n",
              " 'h',\n",
              " 'i',\n",
              " 'j',\n",
              " 'k',\n",
              " 'l',\n",
              " 'm',\n",
              " 'n',\n",
              " 'o',\n",
              " 'p',\n",
              " 'q',\n",
              " 'r',\n",
              " 's',\n",
              " 't',\n",
              " 'u',\n",
              " 'v',\n",
              " 'w',\n",
              " 'x',\n",
              " 'y',\n",
              " 'z',\n",
              " 'A',\n",
              " 'B',\n",
              " 'C',\n",
              " 'D',\n",
              " 'E',\n",
              " 'F',\n",
              " 'G',\n",
              " 'H',\n",
              " 'I',\n",
              " 'J',\n",
              " 'K',\n",
              " 'L',\n",
              " 'M',\n",
              " 'N',\n",
              " 'O',\n",
              " 'P',\n",
              " 'Q',\n",
              " 'R',\n",
              " 'S',\n",
              " 'T',\n",
              " 'U',\n",
              " 'V',\n",
              " 'W',\n",
              " 'X',\n",
              " 'Y',\n",
              " 'Z')"
            ]
          },
          "metadata": {},
          "execution_count": 34
        }
      ]
    },
    {
      "cell_type": "markdown",
      "metadata": {
        "id": "fTooDzr7TCGf"
      },
      "source": [
        "**Dictionnaire**"
      ]
    },
    {
      "cell_type": "code",
      "metadata": {
        "colab": {
          "base_uri": "https://localhost:8080/"
        },
        "id": "RonbCKHuTGZr",
        "outputId": "741aed8d-a625-4943-8b89-00bb52dc270a"
      },
      "source": [
        "I = list(range(52))\n",
        "L = list(string.ascii_letters)\n",
        "D = {i: l for i, l in zip(I,L)}\n",
        "D"
      ],
      "execution_count": 36,
      "outputs": [
        {
          "output_type": "execute_result",
          "data": {
            "text/plain": [
              "{0: 'a',\n",
              " 1: 'b',\n",
              " 2: 'c',\n",
              " 3: 'd',\n",
              " 4: 'e',\n",
              " 5: 'f',\n",
              " 6: 'g',\n",
              " 7: 'h',\n",
              " 8: 'i',\n",
              " 9: 'j',\n",
              " 10: 'k',\n",
              " 11: 'l',\n",
              " 12: 'm',\n",
              " 13: 'n',\n",
              " 14: 'o',\n",
              " 15: 'p',\n",
              " 16: 'q',\n",
              " 17: 'r',\n",
              " 18: 's',\n",
              " 19: 't',\n",
              " 20: 'u',\n",
              " 21: 'v',\n",
              " 22: 'w',\n",
              " 23: 'x',\n",
              " 24: 'y',\n",
              " 25: 'z',\n",
              " 26: 'A',\n",
              " 27: 'B',\n",
              " 28: 'C',\n",
              " 29: 'D',\n",
              " 30: 'E',\n",
              " 31: 'F',\n",
              " 32: 'G',\n",
              " 33: 'H',\n",
              " 34: 'I',\n",
              " 35: 'J',\n",
              " 36: 'K',\n",
              " 37: 'L',\n",
              " 38: 'M',\n",
              " 39: 'N',\n",
              " 40: 'O',\n",
              " 41: 'P',\n",
              " 42: 'Q',\n",
              " 43: 'R',\n",
              " 44: 'S',\n",
              " 45: 'T',\n",
              " 46: 'U',\n",
              " 47: 'V',\n",
              " 48: 'W',\n",
              " 49: 'X',\n",
              " 50: 'Y',\n",
              " 51: 'Z'}"
            ]
          },
          "metadata": {},
          "execution_count": 36
        }
      ]
    },
    {
      "cell_type": "code",
      "metadata": {
        "id": "N6u_R912S_lK"
      },
      "source": [
        "with open('myPickleFile', 'wb') as f1:\n",
        "  pickle.dump(D,f1)\n",
        "  \n"
      ],
      "execution_count": 37,
      "outputs": []
    },
    {
      "cell_type": "code",
      "metadata": {
        "id": "FEyCotVQT0bB"
      },
      "source": [
        "with open('myPickleFile','rb') as f1:\n",
        "  OD = pickle.load(f1)\n",
        "  "
      ],
      "execution_count": 38,
      "outputs": []
    },
    {
      "cell_type": "code",
      "metadata": {
        "colab": {
          "base_uri": "https://localhost:8080/"
        },
        "id": "vNDYJP7tUBh8",
        "outputId": "ce4f88c7-71fb-4a38-cbbf-af1fd2908623"
      },
      "source": [
        "OD"
      ],
      "execution_count": 39,
      "outputs": [
        {
          "output_type": "execute_result",
          "data": {
            "text/plain": [
              "{0: 'a',\n",
              " 1: 'b',\n",
              " 2: 'c',\n",
              " 3: 'd',\n",
              " 4: 'e',\n",
              " 5: 'f',\n",
              " 6: 'g',\n",
              " 7: 'h',\n",
              " 8: 'i',\n",
              " 9: 'j',\n",
              " 10: 'k',\n",
              " 11: 'l',\n",
              " 12: 'm',\n",
              " 13: 'n',\n",
              " 14: 'o',\n",
              " 15: 'p',\n",
              " 16: 'q',\n",
              " 17: 'r',\n",
              " 18: 's',\n",
              " 19: 't',\n",
              " 20: 'u',\n",
              " 21: 'v',\n",
              " 22: 'w',\n",
              " 23: 'x',\n",
              " 24: 'y',\n",
              " 25: 'z',\n",
              " 26: 'A',\n",
              " 27: 'B',\n",
              " 28: 'C',\n",
              " 29: 'D',\n",
              " 30: 'E',\n",
              " 31: 'F',\n",
              " 32: 'G',\n",
              " 33: 'H',\n",
              " 34: 'I',\n",
              " 35: 'J',\n",
              " 36: 'K',\n",
              " 37: 'L',\n",
              " 38: 'M',\n",
              " 39: 'N',\n",
              " 40: 'O',\n",
              " 41: 'P',\n",
              " 42: 'Q',\n",
              " 43: 'R',\n",
              " 44: 'S',\n",
              " 45: 'T',\n",
              " 46: 'U',\n",
              " 47: 'V',\n",
              " 48: 'W',\n",
              " 49: 'X',\n",
              " 50: 'Y',\n",
              " 51: 'Z'}"
            ]
          },
          "metadata": {},
          "execution_count": 39
        }
      ]
    },
    {
      "cell_type": "markdown",
      "metadata": {
        "id": "Hz63ecobUPUR"
      },
      "source": [
        "**deque (du module collections)**"
      ]
    },
    {
      "cell_type": "code",
      "metadata": {
        "id": "iXRoJUcbUMBJ"
      },
      "source": [
        " from collections import deque"
      ],
      "execution_count": 42,
      "outputs": []
    },
    {
      "cell_type": "code",
      "metadata": {
        "colab": {
          "base_uri": "https://localhost:8080/"
        },
        "id": "-n4uridBUU-W",
        "outputId": "573e10df-a368-47af-daaa-cef810fe406d"
      },
      "source": [
        "L = list(string.ascii_letters)\n",
        "L"
      ],
      "execution_count": 43,
      "outputs": [
        {
          "output_type": "execute_result",
          "data": {
            "text/plain": [
              "['a',\n",
              " 'b',\n",
              " 'c',\n",
              " 'd',\n",
              " 'e',\n",
              " 'f',\n",
              " 'g',\n",
              " 'h',\n",
              " 'i',\n",
              " 'j',\n",
              " 'k',\n",
              " 'l',\n",
              " 'm',\n",
              " 'n',\n",
              " 'o',\n",
              " 'p',\n",
              " 'q',\n",
              " 'r',\n",
              " 's',\n",
              " 't',\n",
              " 'u',\n",
              " 'v',\n",
              " 'w',\n",
              " 'x',\n",
              " 'y',\n",
              " 'z',\n",
              " 'A',\n",
              " 'B',\n",
              " 'C',\n",
              " 'D',\n",
              " 'E',\n",
              " 'F',\n",
              " 'G',\n",
              " 'H',\n",
              " 'I',\n",
              " 'J',\n",
              " 'K',\n",
              " 'L',\n",
              " 'M',\n",
              " 'N',\n",
              " 'O',\n",
              " 'P',\n",
              " 'Q',\n",
              " 'R',\n",
              " 'S',\n",
              " 'T',\n",
              " 'U',\n",
              " 'V',\n",
              " 'W',\n",
              " 'X',\n",
              " 'Y',\n",
              " 'Z']"
            ]
          },
          "metadata": {},
          "execution_count": 43
        }
      ]
    },
    {
      "cell_type": "code",
      "metadata": {
        "colab": {
          "base_uri": "https://localhost:8080/"
        },
        "id": "kGLXUHFRUdjN",
        "outputId": "a42e6510-0889-45ac-a8c1-94d1cdf58dca"
      },
      "source": [
        "DE  =deque(L)\n",
        "DE"
      ],
      "execution_count": 44,
      "outputs": [
        {
          "output_type": "execute_result",
          "data": {
            "text/plain": [
              "deque(['a',\n",
              "       'b',\n",
              "       'c',\n",
              "       'd',\n",
              "       'e',\n",
              "       'f',\n",
              "       'g',\n",
              "       'h',\n",
              "       'i',\n",
              "       'j',\n",
              "       'k',\n",
              "       'l',\n",
              "       'm',\n",
              "       'n',\n",
              "       'o',\n",
              "       'p',\n",
              "       'q',\n",
              "       'r',\n",
              "       's',\n",
              "       't',\n",
              "       'u',\n",
              "       'v',\n",
              "       'w',\n",
              "       'x',\n",
              "       'y',\n",
              "       'z',\n",
              "       'A',\n",
              "       'B',\n",
              "       'C',\n",
              "       'D',\n",
              "       'E',\n",
              "       'F',\n",
              "       'G',\n",
              "       'H',\n",
              "       'I',\n",
              "       'J',\n",
              "       'K',\n",
              "       'L',\n",
              "       'M',\n",
              "       'N',\n",
              "       'O',\n",
              "       'P',\n",
              "       'Q',\n",
              "       'R',\n",
              "       'S',\n",
              "       'T',\n",
              "       'U',\n",
              "       'V',\n",
              "       'W',\n",
              "       'X',\n",
              "       'Y',\n",
              "       'Z'])"
            ]
          },
          "metadata": {},
          "execution_count": 44
        }
      ]
    },
    {
      "cell_type": "code",
      "metadata": {
        "id": "7DZy4e4JUdbl"
      },
      "source": [
        "with open('myPickleFile', 'wb') as f1:\n",
        "  pickle.dump(DE,f1)"
      ],
      "execution_count": 45,
      "outputs": []
    },
    {
      "cell_type": "code",
      "metadata": {
        "id": "ctuwTU8aUv9A"
      },
      "source": [
        "with open('myPickleFile' , 'rb') as f1:\n",
        "  ODE= pickle.load(f1)\n"
      ],
      "execution_count": 46,
      "outputs": []
    },
    {
      "cell_type": "code",
      "metadata": {
        "colab": {
          "base_uri": "https://localhost:8080/"
        },
        "id": "Ozx-v533U7mT",
        "outputId": "342ec717-bb34-4db5-a2ea-b6796168337d"
      },
      "source": [
        "ODE"
      ],
      "execution_count": 47,
      "outputs": [
        {
          "output_type": "execute_result",
          "data": {
            "text/plain": [
              "deque(['a',\n",
              "       'b',\n",
              "       'c',\n",
              "       'd',\n",
              "       'e',\n",
              "       'f',\n",
              "       'g',\n",
              "       'h',\n",
              "       'i',\n",
              "       'j',\n",
              "       'k',\n",
              "       'l',\n",
              "       'm',\n",
              "       'n',\n",
              "       'o',\n",
              "       'p',\n",
              "       'q',\n",
              "       'r',\n",
              "       's',\n",
              "       't',\n",
              "       'u',\n",
              "       'v',\n",
              "       'w',\n",
              "       'x',\n",
              "       'y',\n",
              "       'z',\n",
              "       'A',\n",
              "       'B',\n",
              "       'C',\n",
              "       'D',\n",
              "       'E',\n",
              "       'F',\n",
              "       'G',\n",
              "       'H',\n",
              "       'I',\n",
              "       'J',\n",
              "       'K',\n",
              "       'L',\n",
              "       'M',\n",
              "       'N',\n",
              "       'O',\n",
              "       'P',\n",
              "       'Q',\n",
              "       'R',\n",
              "       'S',\n",
              "       'T',\n",
              "       'U',\n",
              "       'V',\n",
              "       'W',\n",
              "       'X',\n",
              "       'Y',\n",
              "       'Z'])"
            ]
          },
          "metadata": {},
          "execution_count": 47
        }
      ]
    },
    {
      "cell_type": "code",
      "metadata": {
        "id": "aj_zU3KyU-K9"
      },
      "source": [
        "class MyObject():\n",
        "  def __init__(self):\n",
        "    self.un = 1\n",
        "    self.deux = 2\n",
        "    self.trois = 3\n",
        "  def __repr__(self):\n",
        "    return \"{}, {}, {}\".format(self.un, self.deux, self.trois)  \n",
        "  def __str__(self):\n",
        "    return \"un: {}\\ndeux: {}\\ntrois: {}\".format(self.un, self.deux, self.trois)"
      ],
      "execution_count": 51,
      "outputs": []
    },
    {
      "cell_type": "code",
      "metadata": {
        "colab": {
          "base_uri": "https://localhost:8080/"
        },
        "id": "zRLR1XWrVndB",
        "outputId": "07398202-3315-499f-de91-fe9621ceafb7"
      },
      "source": [
        "A = MyObject()\n",
        "A"
      ],
      "execution_count": 52,
      "outputs": [
        {
          "output_type": "execute_result",
          "data": {
            "text/plain": [
              "1, 2, 3"
            ]
          },
          "metadata": {},
          "execution_count": 52
        }
      ]
    },
    {
      "cell_type": "code",
      "metadata": {
        "colab": {
          "base_uri": "https://localhost:8080/"
        },
        "id": "vHwwyePxVshC",
        "outputId": "bcd95cb6-1752-41b9-9f6d-39f49409f09b"
      },
      "source": [
        "print(A)"
      ],
      "execution_count": 53,
      "outputs": [
        {
          "output_type": "stream",
          "name": "stdout",
          "text": [
            "un: 1\n",
            "deux: 2\n",
            "trois: 3\n"
          ]
        }
      ]
    },
    {
      "cell_type": "code",
      "metadata": {
        "id": "aZNq-OnFWMhR"
      },
      "source": [
        "with open('myPickleFile', 'wb') as f1:\n",
        "  pickle.dump(A, f1)"
      ],
      "execution_count": 54,
      "outputs": []
    },
    {
      "cell_type": "code",
      "metadata": {
        "id": "s7CbzcDCWTTi"
      },
      "source": [
        "with open('myPickleFile', 'rb') as f1:\n",
        "  B = pickle.load(f1)"
      ],
      "execution_count": 56,
      "outputs": []
    },
    {
      "cell_type": "code",
      "metadata": {
        "colab": {
          "base_uri": "https://localhost:8080/"
        },
        "id": "0GSdWJXLWc9l",
        "outputId": "97306c24-3b63-43be-ba6a-eb0472060215"
      },
      "source": [
        "B"
      ],
      "execution_count": 57,
      "outputs": [
        {
          "output_type": "execute_result",
          "data": {
            "text/plain": [
              "1, 2, 3"
            ]
          },
          "metadata": {},
          "execution_count": 57
        }
      ]
    },
    {
      "cell_type": "code",
      "metadata": {
        "colab": {
          "base_uri": "https://localhost:8080/"
        },
        "id": "n8cVxL-vWTQW",
        "outputId": "f06b390e-c3a7-4405-cc84-875313bec152"
      },
      "source": [
        "print(B)"
      ],
      "execution_count": 58,
      "outputs": [
        {
          "output_type": "stream",
          "name": "stdout",
          "text": [
            "un: 1\n",
            "deux: 2\n",
            "trois: 3\n"
          ]
        }
      ]
    }
  ]
}