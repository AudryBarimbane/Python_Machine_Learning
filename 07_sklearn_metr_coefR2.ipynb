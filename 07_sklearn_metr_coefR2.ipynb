{
  "nbformat": 4,
  "nbformat_minor": 0,
  "metadata": {
    "colab": {
      "name": "07_sklearn_metr_coefR2.ipynb",
      "provenance": [],
      "collapsed_sections": [],
      "authorship_tag": "ABX9TyMB04WjwWbx4pcBG8DwGOHU",
      "include_colab_link": true
    },
    "kernelspec": {
      "name": "python3",
      "display_name": "Python 3"
    },
    "language_info": {
      "name": "python"
    }
  },
  "cells": [
    {
      "cell_type": "markdown",
      "metadata": {
        "id": "view-in-github",
        "colab_type": "text"
      },
      "source": [
        "<a href=\"https://colab.research.google.com/github/AudryBarimbane/Python_Machine_Learning/blob/main/07_sklearn_metr_coefR2.ipynb\" target=\"_parent\"><img src=\"https://colab.research.google.com/assets/colab-badge.svg\" alt=\"Open In Colab\"/></a>"
      ]
    },
    {
      "cell_type": "code",
      "metadata": {
        "id": "Qc3VVH7y7e_L"
      },
      "source": [
        "from sklearn.datasets import load_boston\n",
        "from sklearn.linear_model import LinearRegression\n",
        "import matplotlib.pyplot as plt\n",
        "import numpy as np"
      ],
      "execution_count": null,
      "outputs": []
    },
    {
      "cell_type": "code",
      "metadata": {
        "colab": {
          "base_uri": "https://localhost:8080/",
          "height": 571
        },
        "id": "bEJRzyCQ75FK",
        "outputId": "95b0e917-5349-4f70-b967-b4010a486d6e"
      },
      "source": [
        "boston = load_boston()\n",
        "X = boston.data\n",
        "y = boston.target\n",
        "\n",
        "model = LinearRegression()\n",
        "model.fit(X,y)\n",
        "y_pred = model.predict(X)\n",
        "\n",
        "err_hist = np.abs(y - y_pred)\n",
        "plt.hist(err_hist, bins=50)\n",
        "\n",
        "#plt.scatter(X[:, 5], y, label='y')\n",
        "#plt.scatter(X[:, 5], y_pred, alpha=0.8, label='y_pred')\n",
        "#plt.legend()"
      ],
      "execution_count": null,
      "outputs": [
        {
          "output_type": "execute_result",
          "data": {
            "text/plain": [
              "(array([78., 57., 47., 31., 53., 35., 32., 31., 29., 22., 16., 15., 15.,\n",
              "         5.,  6.,  5.,  2.,  2.,  2.,  4.,  1.,  3.,  0.,  1.,  4.,  2.,\n",
              "         1.,  0.,  0.,  2.,  1.,  0.,  0.,  1.,  0.,  0.,  0.,  0.,  0.,\n",
              "         0.,  0.,  0.,  0.,  0.,  0.,  1.,  0.,  1.,  0.,  1.]),\n",
              " array([1.74154101e-03, 5.25692130e-01, 1.04964272e+00, 1.57359331e+00,\n",
              "        2.09754390e+00, 2.62149448e+00, 3.14544507e+00, 3.66939566e+00,\n",
              "        4.19334625e+00, 4.71729684e+00, 5.24124743e+00, 5.76519802e+00,\n",
              "        6.28914861e+00, 6.81309919e+00, 7.33704978e+00, 7.86100037e+00,\n",
              "        8.38495096e+00, 8.90890155e+00, 9.43285214e+00, 9.95680273e+00,\n",
              "        1.04807533e+01, 1.10047039e+01, 1.15286545e+01, 1.20526051e+01,\n",
              "        1.25765557e+01, 1.31005063e+01, 1.36244568e+01, 1.41484074e+01,\n",
              "        1.46723580e+01, 1.51963086e+01, 1.57202592e+01, 1.62442098e+01,\n",
              "        1.67681604e+01, 1.72921110e+01, 1.78160616e+01, 1.83400121e+01,\n",
              "        1.88639627e+01, 1.93879133e+01, 1.99118639e+01, 2.04358145e+01,\n",
              "        2.09597651e+01, 2.14837157e+01, 2.20076663e+01, 2.25316169e+01,\n",
              "        2.30555674e+01, 2.35795180e+01, 2.41034686e+01, 2.46274192e+01,\n",
              "        2.51513698e+01, 2.56753204e+01, 2.61992710e+01]),\n",
              " <a list of 50 Patch objects>)"
            ]
          },
          "metadata": {},
          "execution_count": 8
        },
        {
          "output_type": "display_data",
          "data": {
            "image/png": "[encoded data removed]",
            "text/plain": [
              "<Figure size 432x288 with 1 Axes>"
            ]
          },
          "metadata": {
            "needs_background": "light"
          }
        }
      ]
    },
    {
      "cell_type": "markdown",
      "metadata": {
        "id": "cFhcLtQN9nEC"
      },
      "source": [
        "**coefficient de détermination R2**\n",
        "\n",
        "Le coefficient de détermination est implémenté de base dans la méthode score(X, y) de tous les estimateurs de régression!\n"
      ]
    },
    {
      "cell_type": "code",
      "metadata": {
        "colab": {
          "base_uri": "https://localhost:8080/"
        },
        "id": "CZiI6k-e-OAJ",
        "outputId": "3a3dde87-ff42-4146-9fe6-1adda8db900b"
      },
      "source": [
        "model.score(X, y)"
      ],
      "execution_count": null,
      "outputs": [
        {
          "output_type": "execute_result",
          "data": {
            "text/plain": [
              "0.7406426641094095"
            ]
          },
          "metadata": {},
          "execution_count": 9
        }
      ]
    },
    {
      "cell_type": "markdown",
      "metadata": {
        "id": "uWj0OtPv-wkH"
      },
      "source": [
        "R2 évalue la performance du modèle par rapport au niveau de variation \n",
        "présent dans les données "
      ]
    },
    {
      "cell_type": "code",
      "metadata": {
        "id": "JsIsuqxW-vwv"
      },
      "source": [
        "R2 = 0.7406426641094095\n",
        "Ici le modèle décrit 74% des variations du prix de l'immobilier "
      ],
      "execution_count": null,
      "outputs": []
    },
    {
      "cell_type": "markdown",
      "metadata": {
        "id": "Z7ivDL6DBGpg"
      },
      "source": [
        "Pour utlliser les métriques dans une cross validation ,il faut utiliser la version STRING des métriques.\n",
        "Exemple:\n",
        "  cross_val_score(model, X, y, cv, scoring='neg_mean_squared_error')"
      ]
    },
    {
      "cell_type": "code",
      "metadata": {
        "id": "w6VCjNuSBzVJ"
      },
      "source": [
        "from sklearn.model_selection import cross_val_score"
      ],
      "execution_count": null,
      "outputs": []
    },
    {
      "cell_type": "code",
      "metadata": {
        "colab": {
          "base_uri": "https://localhost:8080/"
        },
        "id": "MRg5i-HlBi_z",
        "outputId": "1607c6aa-8560-4e37-9fd4-5e23f5972bd4"
      },
      "source": [
        "model = LinearRegression()\n",
        "model.fit(X, y)\n",
        "model.score(X, y)\n",
        "\n",
        "cross_val_score(LinearRegression(), X, y, cv=3,scoring='neg_mean_absolute_error')"
      ],
      "execution_count": null,
      "outputs": [
        {
          "output_type": "execute_result",
          "data": {
            "text/plain": [
              "array([ -3.32352337,  -4.27948547, -13.47752829])"
            ]
          },
          "metadata": {},
          "execution_count": 20
        }
      ]
    },
    {
      "cell_type": "code",
      "metadata": {
        "colab": {
          "base_uri": "https://localhost:8080/"
        },
        "id": "q6yNuSwACpMz",
        "outputId": "3d04c8ff-b410-4d6e-b7de-e21e0c24b796"
      },
      "source": [
        "import sklearn.metrics\n",
        "sorted(sklearn.metrics.SCORERS.keys())"
      ],
      "execution_count": null,
      "outputs": [
        {
          "output_type": "execute_result",
          "data": {
            "text/plain": [
              "['accuracy',\n",
              " 'adjusted_mutual_info_score',\n",
              " 'adjusted_rand_score',\n",
              " 'average_precision',\n",
              " 'balanced_accuracy',\n",
              " 'completeness_score',\n",
              " 'explained_variance',\n",
              " 'f1',\n",
              " 'f1_macro',\n",
              " 'f1_micro',\n",
              " 'f1_samples',\n",
              " 'f1_weighted',\n",
              " 'fowlkes_mallows_score',\n",
              " 'homogeneity_score',\n",
              " 'jaccard',\n",
              " 'jaccard_macro',\n",
              " 'jaccard_micro',\n",
              " 'jaccard_samples',\n",
              " 'jaccard_weighted',\n",
              " 'max_error',\n",
              " 'mutual_info_score',\n",
              " 'neg_brier_score',\n",
              " 'neg_log_loss',\n",
              " 'neg_mean_absolute_error',\n",
              " 'neg_mean_gamma_deviance',\n",
              " 'neg_mean_poisson_deviance',\n",
              " 'neg_mean_squared_error',\n",
              " 'neg_mean_squared_log_error',\n",
              " 'neg_median_absolute_error',\n",
              " 'neg_root_mean_squared_error',\n",
              " 'normalized_mutual_info_score',\n",
              " 'precision',\n",
              " 'precision_macro',\n",
              " 'precision_micro',\n",
              " 'precision_samples',\n",
              " 'precision_weighted',\n",
              " 'r2',\n",
              " 'recall',\n",
              " 'recall_macro',\n",
              " 'recall_micro',\n",
              " 'recall_samples',\n",
              " 'recall_weighted',\n",
              " 'roc_auc',\n",
              " 'roc_auc_ovo',\n",
              " 'roc_auc_ovo_weighted',\n",
              " 'roc_auc_ovr',\n",
              " 'roc_auc_ovr_weighted',\n",
              " 'v_measure_score']"
            ]
          },
          "metadata": {},
          "execution_count": 16
        }
      ]
    }
  ]
}