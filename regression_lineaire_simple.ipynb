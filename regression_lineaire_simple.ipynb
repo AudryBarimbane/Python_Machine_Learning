{
  "nbformat": 4,
  "nbformat_minor": 0,
  "metadata": {
    "colab": {
      "name": "regression_lineaire_simple.ipynb",
      "provenance": [],
      "collapsed_sections": [],
      "authorship_tag": "ABX9TyNH6UUEscPYJGzT7NN0F97+",
      "include_colab_link": true
    },
    "kernelspec": {
      "name": "python3",
      "display_name": "Python 3"
    },
    "language_info": {
      "name": "python"
    }
  },
  "cells": [
    {
      "cell_type": "markdown",
      "metadata": {
        "id": "view-in-github",
        "colab_type": "text"
      },
      "source": [
        "<a href=\"https://colab.research.google.com/github/AudryBarimbane/Python_Machine_Learning/blob/main/regression_lineaire_simple.ipynb\" target=\"_parent\"><img src=\"https://colab.research.google.com/assets/colab-badge.svg\" alt=\"Open In Colab\"/></a>"
      ]
    },
    {
      "cell_type": "code",
      "metadata": {
        "colab": {
          "base_uri": "https://localhost:8080/"
        },
        "id": "-IO0s6vlNp4P",
        "outputId": "203c52a0-7e71-47f9-ae44-ae301e1899bd"
      },
      "source": [
        "import numpy as np\n",
        "from sklearn.linear_model import LinearRegression\n",
        "#données\n",
        "x = np.array([6, 8, 10, 14, 18]).reshape((-1, 1))\n",
        "y = np.array([7, 9, 13, 17, 18])\n",
        "#instancier modèle\n",
        "model_linReg = LinearRegression()\n",
        "#entrainement du modèle\n",
        "model_linReg.fit(x, y)\n",
        "#précision du modèle\n",
        "precision = model_linReg.score(x, y)\n",
        "print(precision*100)\n",
        "#prédiction\n",
        "prediction = model_linReg.predict(x)\n",
        "print(prediction)"
      ],
      "execution_count": 1,
      "outputs": [
        {
          "output_type": "stream",
          "name": "stdout",
          "text": [
            "92.3918697978597\n",
            "[ 7.80172414  9.72413793 11.64655172 15.49137931 19.3362069 ]\n"
          ]
        }
      ]
    }
  ]
}