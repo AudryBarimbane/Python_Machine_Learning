{
  "nbformat": 4,
  "nbformat_minor": 0,
  "metadata": {
    "colab": {
      "name": "regression_lineaire_multiple.ipynb",
      "provenance": [],
      "collapsed_sections": [],
      "authorship_tag": "ABX9TyOY+jKxtBunaWCm8yw4ZCa3",
      "include_colab_link": true
    },
    "kernelspec": {
      "name": "python3",
      "display_name": "Python 3"
    },
    "language_info": {
      "name": "python"
    }
  },
  "cells": [
    {
      "cell_type": "markdown",
      "metadata": {
        "id": "view-in-github",
        "colab_type": "text"
      },
      "source": [
        "<a href=\"https://colab.research.google.com/github/AudryBarimbane/Python_Machine_Learning/blob/main/regression_lineaire_multiple.ipynb\" target=\"_parent\"><img src=\"https://colab.research.google.com/assets/colab-badge.svg\" alt=\"Open In Colab\"/></a>"
      ]
    },
    {
      "cell_type": "code",
      "metadata": {
        "colab": {
          "base_uri": "https://localhost:8080/"
        },
        "id": "FUSWCsJjPu3O",
        "outputId": "5fef65e8-0d2a-4c7c-e1b4-b35f3d737505"
      },
      "source": [
        "import numpy as np\n",
        "from sklearn.linear_model import LinearRegression\n",
        "#données\n",
        "x = np.array([[5, 1], [8, 2], [10, 13], [14, 15], [18, 9]])\n",
        "y = np.array([7, 9, 13, 17, 18])\n",
        "#instancier modèle\n",
        "model_linRegMul = LinearRegression()\n",
        "#entrainement du modèle\n",
        "model_linRegMul.fit(x, y)\n",
        "#précision du modèle\n",
        "precision = model_linRegMul.score(x, y)\n",
        "print(precision*100)\n",
        "#prédiction\n",
        "test = np.arange(10).reshape((-1, 2))\n",
        "prediction = model_linRegMul.predict(test)\n",
        "print(prediction)"
      ],
      "execution_count": 1,
      "outputs": [
        {
          "output_type": "stream",
          "name": "stdout",
          "text": [
            "99.6884934878474\n",
            "[ 3.19175469  5.11853143  7.04530817  8.97208491 10.89886166]\n"
          ]
        }
      ]
    }
  ]
}